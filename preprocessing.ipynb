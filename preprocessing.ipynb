{
 "cells": [
  {
   "cell_type": "code",
   "execution_count": 921,
   "id": "879ee9c2",
   "metadata": {},
   "outputs": [],
   "source": [
    "import pandas as pd\n",
    "import re"
   ]
  },
  {
   "cell_type": "code",
   "execution_count": 922,
   "id": "23a4f680",
   "metadata": {},
   "outputs": [],
   "source": [
    "data=pd.read_csv(\"Tweets.csv\",nrows=10000)"
   ]
  },
  {
   "cell_type": "code",
   "execution_count": 923,
   "id": "8bbfb72f",
   "metadata": {},
   "outputs": [
    {
     "data": {
      "text/plain": [
       "0                     @VirginAmerica What @dhepburn said.\n",
       "1       @VirginAmerica plus you've added commercials t...\n",
       "2       @VirginAmerica I didn't today... Must mean I n...\n",
       "3       @VirginAmerica it's really aggressive to blast...\n",
       "4       @VirginAmerica and it's a really big bad thing...\n",
       "                              ...                        \n",
       "9995    @USAirways @AmericanAir seriously with all the...\n",
       "9996    @USAirways Flight 4210 been sitting @Bradley_A...\n",
       "9997    @USAirways new F/As from DFW to CLT this morni...\n",
       "9998    @USAirways why have me board a plane knowing t...\n",
       "9999    @USAirways with this livery back in the day. h...\n",
       "Name: text, Length: 10000, dtype: object"
      ]
     },
     "execution_count": 923,
     "metadata": {},
     "output_type": "execute_result"
    }
   ],
   "source": [
    "data.head()\n",
    "data.shape\n",
    "data.dtypes\n",
    "data[\"text\"].astype(str)"
   ]
  },
  {
   "cell_type": "code",
   "execution_count": 924,
   "id": "82df8b12",
   "metadata": {},
   "outputs": [
    {
     "data": {
      "text/html": [
       "<div>\n",
       "<style scoped>\n",
       "    .dataframe tbody tr th:only-of-type {\n",
       "        vertical-align: middle;\n",
       "    }\n",
       "\n",
       "    .dataframe tbody tr th {\n",
       "        vertical-align: top;\n",
       "    }\n",
       "\n",
       "    .dataframe thead th {\n",
       "        text-align: right;\n",
       "    }\n",
       "</style>\n",
       "<table border=\"1\" class=\"dataframe\">\n",
       "  <thead>\n",
       "    <tr style=\"text-align: right;\">\n",
       "      <th></th>\n",
       "      <th>tweet_id</th>\n",
       "      <th>airline_sentiment</th>\n",
       "      <th>airline_sentiment_confidence</th>\n",
       "      <th>negativereason</th>\n",
       "      <th>negativereason_confidence</th>\n",
       "      <th>airline</th>\n",
       "      <th>airline_sentiment_gold</th>\n",
       "      <th>name</th>\n",
       "      <th>negativereason_gold</th>\n",
       "      <th>retweet_count</th>\n",
       "      <th>text</th>\n",
       "      <th>tweet_coord</th>\n",
       "      <th>tweet_created</th>\n",
       "      <th>tweet_location</th>\n",
       "      <th>user_timezone</th>\n",
       "    </tr>\n",
       "  </thead>\n",
       "  <tbody>\n",
       "    <tr>\n",
       "      <th>0</th>\n",
       "      <td>570306133677760513</td>\n",
       "      <td>neutral</td>\n",
       "      <td>1.0000</td>\n",
       "      <td>NaN</td>\n",
       "      <td>NaN</td>\n",
       "      <td>Virgin America</td>\n",
       "      <td>NaN</td>\n",
       "      <td>cairdin</td>\n",
       "      <td>NaN</td>\n",
       "      <td>0</td>\n",
       "      <td>@VirginAmerica What @dhepburn said.</td>\n",
       "      <td>NaN</td>\n",
       "      <td>2015-02-24 11:35:52 -0800</td>\n",
       "      <td>NaN</td>\n",
       "      <td>Eastern Time (US &amp; Canada)</td>\n",
       "    </tr>\n",
       "    <tr>\n",
       "      <th>1</th>\n",
       "      <td>570301130888122368</td>\n",
       "      <td>positive</td>\n",
       "      <td>0.3486</td>\n",
       "      <td>NaN</td>\n",
       "      <td>0.0000</td>\n",
       "      <td>Virgin America</td>\n",
       "      <td>NaN</td>\n",
       "      <td>jnardino</td>\n",
       "      <td>NaN</td>\n",
       "      <td>0</td>\n",
       "      <td>@VirginAmerica plus you've added commercials t...</td>\n",
       "      <td>NaN</td>\n",
       "      <td>2015-02-24 11:15:59 -0800</td>\n",
       "      <td>NaN</td>\n",
       "      <td>Pacific Time (US &amp; Canada)</td>\n",
       "    </tr>\n",
       "    <tr>\n",
       "      <th>2</th>\n",
       "      <td>570301083672813571</td>\n",
       "      <td>neutral</td>\n",
       "      <td>0.6837</td>\n",
       "      <td>NaN</td>\n",
       "      <td>NaN</td>\n",
       "      <td>Virgin America</td>\n",
       "      <td>NaN</td>\n",
       "      <td>yvonnalynn</td>\n",
       "      <td>NaN</td>\n",
       "      <td>0</td>\n",
       "      <td>@VirginAmerica I didn't today... Must mean I n...</td>\n",
       "      <td>NaN</td>\n",
       "      <td>2015-02-24 11:15:48 -0800</td>\n",
       "      <td>Lets Play</td>\n",
       "      <td>Central Time (US &amp; Canada)</td>\n",
       "    </tr>\n",
       "    <tr>\n",
       "      <th>3</th>\n",
       "      <td>570301031407624196</td>\n",
       "      <td>negative</td>\n",
       "      <td>1.0000</td>\n",
       "      <td>Bad Flight</td>\n",
       "      <td>0.7033</td>\n",
       "      <td>Virgin America</td>\n",
       "      <td>NaN</td>\n",
       "      <td>jnardino</td>\n",
       "      <td>NaN</td>\n",
       "      <td>0</td>\n",
       "      <td>@VirginAmerica it's really aggressive to blast...</td>\n",
       "      <td>NaN</td>\n",
       "      <td>2015-02-24 11:15:36 -0800</td>\n",
       "      <td>NaN</td>\n",
       "      <td>Pacific Time (US &amp; Canada)</td>\n",
       "    </tr>\n",
       "    <tr>\n",
       "      <th>4</th>\n",
       "      <td>570300817074462722</td>\n",
       "      <td>negative</td>\n",
       "      <td>1.0000</td>\n",
       "      <td>Can't Tell</td>\n",
       "      <td>1.0000</td>\n",
       "      <td>Virgin America</td>\n",
       "      <td>NaN</td>\n",
       "      <td>jnardino</td>\n",
       "      <td>NaN</td>\n",
       "      <td>0</td>\n",
       "      <td>@VirginAmerica and it's a really big bad thing...</td>\n",
       "      <td>NaN</td>\n",
       "      <td>2015-02-24 11:14:45 -0800</td>\n",
       "      <td>NaN</td>\n",
       "      <td>Pacific Time (US &amp; Canada)</td>\n",
       "    </tr>\n",
       "  </tbody>\n",
       "</table>\n",
       "</div>"
      ],
      "text/plain": [
       "             tweet_id airline_sentiment  airline_sentiment_confidence  \\\n",
       "0  570306133677760513           neutral                        1.0000   \n",
       "1  570301130888122368          positive                        0.3486   \n",
       "2  570301083672813571           neutral                        0.6837   \n",
       "3  570301031407624196          negative                        1.0000   \n",
       "4  570300817074462722          negative                        1.0000   \n",
       "\n",
       "  negativereason  negativereason_confidence         airline  \\\n",
       "0            NaN                        NaN  Virgin America   \n",
       "1            NaN                     0.0000  Virgin America   \n",
       "2            NaN                        NaN  Virgin America   \n",
       "3     Bad Flight                     0.7033  Virgin America   \n",
       "4     Can't Tell                     1.0000  Virgin America   \n",
       "\n",
       "  airline_sentiment_gold        name negativereason_gold  retweet_count  \\\n",
       "0                    NaN     cairdin                 NaN              0   \n",
       "1                    NaN    jnardino                 NaN              0   \n",
       "2                    NaN  yvonnalynn                 NaN              0   \n",
       "3                    NaN    jnardino                 NaN              0   \n",
       "4                    NaN    jnardino                 NaN              0   \n",
       "\n",
       "                                                text tweet_coord  \\\n",
       "0                @VirginAmerica What @dhepburn said.         NaN   \n",
       "1  @VirginAmerica plus you've added commercials t...         NaN   \n",
       "2  @VirginAmerica I didn't today... Must mean I n...         NaN   \n",
       "3  @VirginAmerica it's really aggressive to blast...         NaN   \n",
       "4  @VirginAmerica and it's a really big bad thing...         NaN   \n",
       "\n",
       "               tweet_created tweet_location               user_timezone  \n",
       "0  2015-02-24 11:35:52 -0800            NaN  Eastern Time (US & Canada)  \n",
       "1  2015-02-24 11:15:59 -0800            NaN  Pacific Time (US & Canada)  \n",
       "2  2015-02-24 11:15:48 -0800      Lets Play  Central Time (US & Canada)  \n",
       "3  2015-02-24 11:15:36 -0800            NaN  Pacific Time (US & Canada)  \n",
       "4  2015-02-24 11:14:45 -0800            NaN  Pacific Time (US & Canada)  "
      ]
     },
     "execution_count": 924,
     "metadata": {},
     "output_type": "execute_result"
    }
   ],
   "source": [
    "data.head()"
   ]
  },
  {
   "cell_type": "code",
   "execution_count": 925,
   "id": "7f2da770",
   "metadata": {
    "scrolled": true
   },
   "outputs": [
    {
     "data": {
      "text/plain": [
       "tweet_id                         0.00\n",
       "airline_sentiment                0.00\n",
       "airline_sentiment_confidence     0.00\n",
       "negativereason                  42.41\n",
       "negativereason_confidence       32.62\n",
       "airline                          0.00\n",
       "airline_sentiment_gold          99.77\n",
       "name                             0.00\n",
       "negativereason_gold             99.81\n",
       "retweet_count                    0.00\n",
       "text                             0.00\n",
       "tweet_coord                     92.66\n",
       "tweet_created                    0.00\n",
       "tweet_location                  31.60\n",
       "user_timezone                   31.81\n",
       "dtype: float64"
      ]
     },
     "execution_count": 925,
     "metadata": {},
     "output_type": "execute_result"
    }
   ],
   "source": [
    "#lets check percentage of missing values \n",
    "data.isnull().sum()*100/len(data)\n",
    "#we want to perform sentiment analysis thus we only want to keep the columns airline_sentiment and text ,\n",
    "#and do preprocessing on the text column"
   ]
  },
  {
   "cell_type": "code",
   "execution_count": 926,
   "id": "8696de38",
   "metadata": {},
   "outputs": [],
   "source": [
    "#we will drop all columns except airline_sentiment ,airline_sentiment_confidence  and text \n",
    "\n",
    "data.drop([\"tweet_id\",'airline_sentiment_gold',\"negativereason\",\"negativereason_confidence\",\"airline\",\"airline_sentiment_gold\",\"name\",\"negativereason_gold\",\"retweet_count\",'negativereason_gold','tweet_coord',\"tweet_created\",\"tweet_location\",\"user_timezone\"],axis=1,inplace=True)"
   ]
  },
  {
   "cell_type": "code",
   "execution_count": 927,
   "id": "d1b08d02",
   "metadata": {},
   "outputs": [
    {
     "data": {
      "text/html": [
       "<div>\n",
       "<style scoped>\n",
       "    .dataframe tbody tr th:only-of-type {\n",
       "        vertical-align: middle;\n",
       "    }\n",
       "\n",
       "    .dataframe tbody tr th {\n",
       "        vertical-align: top;\n",
       "    }\n",
       "\n",
       "    .dataframe thead th {\n",
       "        text-align: right;\n",
       "    }\n",
       "</style>\n",
       "<table border=\"1\" class=\"dataframe\">\n",
       "  <thead>\n",
       "    <tr style=\"text-align: right;\">\n",
       "      <th></th>\n",
       "      <th>airline_sentiment</th>\n",
       "      <th>airline_sentiment_confidence</th>\n",
       "      <th>text</th>\n",
       "    </tr>\n",
       "  </thead>\n",
       "  <tbody>\n",
       "    <tr>\n",
       "      <th>0</th>\n",
       "      <td>neutral</td>\n",
       "      <td>1.0000</td>\n",
       "      <td>@VirginAmerica What @dhepburn said.</td>\n",
       "    </tr>\n",
       "    <tr>\n",
       "      <th>1</th>\n",
       "      <td>positive</td>\n",
       "      <td>0.3486</td>\n",
       "      <td>@VirginAmerica plus you've added commercials t...</td>\n",
       "    </tr>\n",
       "    <tr>\n",
       "      <th>2</th>\n",
       "      <td>neutral</td>\n",
       "      <td>0.6837</td>\n",
       "      <td>@VirginAmerica I didn't today... Must mean I n...</td>\n",
       "    </tr>\n",
       "    <tr>\n",
       "      <th>3</th>\n",
       "      <td>negative</td>\n",
       "      <td>1.0000</td>\n",
       "      <td>@VirginAmerica it's really aggressive to blast...</td>\n",
       "    </tr>\n",
       "    <tr>\n",
       "      <th>4</th>\n",
       "      <td>negative</td>\n",
       "      <td>1.0000</td>\n",
       "      <td>@VirginAmerica and it's a really big bad thing...</td>\n",
       "    </tr>\n",
       "  </tbody>\n",
       "</table>\n",
       "</div>"
      ],
      "text/plain": [
       "  airline_sentiment  airline_sentiment_confidence  \\\n",
       "0           neutral                        1.0000   \n",
       "1          positive                        0.3486   \n",
       "2           neutral                        0.6837   \n",
       "3          negative                        1.0000   \n",
       "4          negative                        1.0000   \n",
       "\n",
       "                                                text  \n",
       "0                @VirginAmerica What @dhepburn said.  \n",
       "1  @VirginAmerica plus you've added commercials t...  \n",
       "2  @VirginAmerica I didn't today... Must mean I n...  \n",
       "3  @VirginAmerica it's really aggressive to blast...  \n",
       "4  @VirginAmerica and it's a really big bad thing...  "
      ]
     },
     "execution_count": 927,
     "metadata": {},
     "output_type": "execute_result"
    }
   ],
   "source": [
    "data.head()"
   ]
  },
  {
   "cell_type": "code",
   "execution_count": 928,
   "id": "80636769",
   "metadata": {},
   "outputs": [
    {
     "data": {
      "text/plain": [
       "13"
      ]
     },
     "execution_count": 928,
     "metadata": {},
     "output_type": "execute_result"
    }
   ],
   "source": [
    "#lets check for duplicated rows\n",
    "data.duplicated().sum()"
   ]
  },
  {
   "cell_type": "code",
   "execution_count": 929,
   "id": "9f53cd3a",
   "metadata": {},
   "outputs": [],
   "source": [
    "#perfect no duplicates "
   ]
  },
  {
   "cell_type": "code",
   "execution_count": null,
   "id": "8a6632b6",
   "metadata": {},
   "outputs": [],
   "source": []
  },
  {
   "cell_type": "code",
   "execution_count": null,
   "id": "6a5a14e9",
   "metadata": {
    "scrolled": true
   },
   "outputs": [],
   "source": []
  },
  {
   "cell_type": "code",
   "execution_count": null,
   "id": "b00eaff1",
   "metadata": {},
   "outputs": [],
   "source": []
  },
  {
   "cell_type": "code",
   "execution_count": null,
   "id": "459f867f",
   "metadata": {},
   "outputs": [],
   "source": []
  },
  {
   "cell_type": "code",
   "execution_count": 930,
   "id": "16b759bd",
   "metadata": {},
   "outputs": [
    {
     "data": {
      "text/html": [
       "<div>\n",
       "<style scoped>\n",
       "    .dataframe tbody tr th:only-of-type {\n",
       "        vertical-align: middle;\n",
       "    }\n",
       "\n",
       "    .dataframe tbody tr th {\n",
       "        vertical-align: top;\n",
       "    }\n",
       "\n",
       "    .dataframe thead th {\n",
       "        text-align: right;\n",
       "    }\n",
       "</style>\n",
       "<table border=\"1\" class=\"dataframe\">\n",
       "  <thead>\n",
       "    <tr style=\"text-align: right;\">\n",
       "      <th></th>\n",
       "      <th>airline_sentiment</th>\n",
       "      <th>airline_sentiment_confidence</th>\n",
       "      <th>text</th>\n",
       "    </tr>\n",
       "  </thead>\n",
       "  <tbody>\n",
       "    <tr>\n",
       "      <th>0</th>\n",
       "      <td>neutral</td>\n",
       "      <td>1.0000</td>\n",
       "      <td>@VirginAmerica What @dhepburn said.</td>\n",
       "    </tr>\n",
       "    <tr>\n",
       "      <th>1</th>\n",
       "      <td>positive</td>\n",
       "      <td>0.3486</td>\n",
       "      <td>@VirginAmerica plus you've added commercials t...</td>\n",
       "    </tr>\n",
       "    <tr>\n",
       "      <th>2</th>\n",
       "      <td>neutral</td>\n",
       "      <td>0.6837</td>\n",
       "      <td>@VirginAmerica I didn't today... Must mean I n...</td>\n",
       "    </tr>\n",
       "    <tr>\n",
       "      <th>3</th>\n",
       "      <td>negative</td>\n",
       "      <td>1.0000</td>\n",
       "      <td>@VirginAmerica it's really aggressive to blast...</td>\n",
       "    </tr>\n",
       "    <tr>\n",
       "      <th>4</th>\n",
       "      <td>negative</td>\n",
       "      <td>1.0000</td>\n",
       "      <td>@VirginAmerica and it's a really big bad thing...</td>\n",
       "    </tr>\n",
       "  </tbody>\n",
       "</table>\n",
       "</div>"
      ],
      "text/plain": [
       "  airline_sentiment  airline_sentiment_confidence  \\\n",
       "0           neutral                        1.0000   \n",
       "1          positive                        0.3486   \n",
       "2           neutral                        0.6837   \n",
       "3          negative                        1.0000   \n",
       "4          negative                        1.0000   \n",
       "\n",
       "                                                text  \n",
       "0                @VirginAmerica What @dhepburn said.  \n",
       "1  @VirginAmerica plus you've added commercials t...  \n",
       "2  @VirginAmerica I didn't today... Must mean I n...  \n",
       "3  @VirginAmerica it's really aggressive to blast...  \n",
       "4  @VirginAmerica and it's a really big bad thing...  "
      ]
     },
     "execution_count": 930,
     "metadata": {},
     "output_type": "execute_result"
    }
   ],
   "source": [
    "data.head()"
   ]
  },
  {
   "cell_type": "code",
   "execution_count": null,
   "id": "c8743266",
   "metadata": {},
   "outputs": [],
   "source": []
  },
  {
   "cell_type": "code",
   "execution_count": 931,
   "id": "6a1f31b4",
   "metadata": {},
   "outputs": [],
   "source": [
    "#convert to lowercase\n",
    "data[\"text\"]=data[\"text\"].str.lower()\n"
   ]
  },
  {
   "cell_type": "code",
   "execution_count": 932,
   "id": "882a1e6a",
   "metadata": {},
   "outputs": [
    {
     "data": {
      "text/html": [
       "<div>\n",
       "<style scoped>\n",
       "    .dataframe tbody tr th:only-of-type {\n",
       "        vertical-align: middle;\n",
       "    }\n",
       "\n",
       "    .dataframe tbody tr th {\n",
       "        vertical-align: top;\n",
       "    }\n",
       "\n",
       "    .dataframe thead th {\n",
       "        text-align: right;\n",
       "    }\n",
       "</style>\n",
       "<table border=\"1\" class=\"dataframe\">\n",
       "  <thead>\n",
       "    <tr style=\"text-align: right;\">\n",
       "      <th></th>\n",
       "      <th>airline_sentiment</th>\n",
       "      <th>airline_sentiment_confidence</th>\n",
       "      <th>text</th>\n",
       "    </tr>\n",
       "  </thead>\n",
       "  <tbody>\n",
       "    <tr>\n",
       "      <th>0</th>\n",
       "      <td>neutral</td>\n",
       "      <td>1.0000</td>\n",
       "      <td>@virginamerica what @dhepburn said.</td>\n",
       "    </tr>\n",
       "    <tr>\n",
       "      <th>1</th>\n",
       "      <td>positive</td>\n",
       "      <td>0.3486</td>\n",
       "      <td>@virginamerica plus you've added commercials t...</td>\n",
       "    </tr>\n",
       "    <tr>\n",
       "      <th>2</th>\n",
       "      <td>neutral</td>\n",
       "      <td>0.6837</td>\n",
       "      <td>@virginamerica i didn't today... must mean i n...</td>\n",
       "    </tr>\n",
       "    <tr>\n",
       "      <th>3</th>\n",
       "      <td>negative</td>\n",
       "      <td>1.0000</td>\n",
       "      <td>@virginamerica it's really aggressive to blast...</td>\n",
       "    </tr>\n",
       "    <tr>\n",
       "      <th>4</th>\n",
       "      <td>negative</td>\n",
       "      <td>1.0000</td>\n",
       "      <td>@virginamerica and it's a really big bad thing...</td>\n",
       "    </tr>\n",
       "  </tbody>\n",
       "</table>\n",
       "</div>"
      ],
      "text/plain": [
       "  airline_sentiment  airline_sentiment_confidence  \\\n",
       "0           neutral                        1.0000   \n",
       "1          positive                        0.3486   \n",
       "2           neutral                        0.6837   \n",
       "3          negative                        1.0000   \n",
       "4          negative                        1.0000   \n",
       "\n",
       "                                                text  \n",
       "0                @virginamerica what @dhepburn said.  \n",
       "1  @virginamerica plus you've added commercials t...  \n",
       "2  @virginamerica i didn't today... must mean i n...  \n",
       "3  @virginamerica it's really aggressive to blast...  \n",
       "4  @virginamerica and it's a really big bad thing...  "
      ]
     },
     "execution_count": 932,
     "metadata": {},
     "output_type": "execute_result"
    }
   ],
   "source": [
    "data.head()"
   ]
  },
  {
   "cell_type": "code",
   "execution_count": 933,
   "id": "1ebab407",
   "metadata": {},
   "outputs": [
    {
     "data": {
      "text/plain": [
       "'@virginamerica i love this graphic. http://t.co/ut5grrwaaa'"
      ]
     },
     "execution_count": 933,
     "metadata": {},
     "output_type": "execute_result"
    }
   ],
   "source": [
    "data[\"text\"][21]"
   ]
  },
  {
   "cell_type": "code",
   "execution_count": 934,
   "id": "c53ff783",
   "metadata": {},
   "outputs": [],
   "source": [
    "#lets remove urls \n",
    "#define regex pattern\n",
    "#url_pattern=re.compile(r'https?://\\s+')\n",
    "#define function to remove urls from text\n",
    "def remove_urls(text):\n",
    "    url_pattern = re.compile('https?://\\S+|www\\.\\S+')\n",
    "    \n",
    "    return url_pattern.sub(\"\",text)\n",
    "\n",
    "#apply function to column \"text\"\n",
    "data[\"text\"]=data[\"text\"].apply(remove_urls)\n",
    "\n"
   ]
  },
  {
   "cell_type": "code",
   "execution_count": 935,
   "id": "96abfe8e",
   "metadata": {},
   "outputs": [
    {
     "data": {
      "text/plain": [
       "'@virginamerica i love this graphic. '"
      ]
     },
     "execution_count": 935,
     "metadata": {},
     "output_type": "execute_result"
    }
   ],
   "source": [
    "data[\"text\"][21]"
   ]
  },
  {
   "cell_type": "code",
   "execution_count": 936,
   "id": "ca918922",
   "metadata": {},
   "outputs": [
    {
     "data": {
      "text/plain": [
       "'i ❤️ flying @virginamerica. ☺️👍'"
      ]
     },
     "execution_count": 936,
     "metadata": {},
     "output_type": "execute_result"
    }
   ],
   "source": [
    "data[\"text\"][18]"
   ]
  },
  {
   "cell_type": "code",
   "execution_count": 937,
   "id": "88cc4be4",
   "metadata": {},
   "outputs": [],
   "source": [
    "\n",
    "#LEZOS: \"grinning face\" -> happy\n",
    "#LEZOS: \"face with tongue\" -> kidding\n",
    "#LEZOS: \"thumbs up\" -> approve\n",
    "emoji_dict = {\n",
    "    \"😀\": \"happy\",\n",
    "    \"😃\": \"very happy\",\n",
    "    \"😄\": \"laughing happily\",\n",
    "    \"😁\": \"smiling\",\n",
    "    \"😆\": \"laughing\",\n",
    "    \"😅\": \"laughing ironicly\",\n",
    "    \"😂\": \"crying in laughter\",\n",
    "    \"🤣\": \"rolling on the floor laughing\",\n",
    "    \"😊\": \"smiling face with smiling eyes\",\n",
    "    \"😇\": \"smiling face with halo\",\n",
    "    \"🙂\": \"slightly smiling face\",\n",
    "    \"🙃\": \"upside-down face\",\n",
    "    \"😉\": \"winking face\",\n",
    "    \"😌\": \"relieved face\",\n",
    "    \"😍\": \"smiling face with heart-eyes\",\n",
    "    \"😘\": \"face blowing a kiss\",\n",
    "    \"😗\": \"kissing face\",\n",
    "    \"😙\": \"kissing face with smiling eyes\",\n",
    "    \"😚\": \"kissing face with closed eyes\",\n",
    "    \"😋\": \"face savoring food\",\n",
    "    \"😛\": \"face with tongue\",\n",
    "    \"😜\": \"winking face with tongue\",\n",
    "    \"😝\": \"squinting face with tongue\",\n",
    "    \"🤑\": \"money-mouth face\",\n",
    "    \"🤗\": \"hugging face\",\n",
    "    \"🤓\": \"nerd face\",\n",
    "    \"😎\": \"smiling face with sunglasses\",\n",
    "    \"🤡\": \"clown face\",\n",
    "    \"🤠\": \"cowboy hat face\",\n",
    "    \"😏\": \"smirking face\",\n",
    "    \"😒\": \"unamused face\",\n",
    "    \"😞\": \"disappointed face\",\n",
    "    \"😔\": \"pensive face\",\n",
    "    \"😟\": \"worried face\",\n",
    "    \"😕\": \"confused face\",\n",
    "    \"🙁\": \"slightly frowning face\",\n",
    "    \"☹️\": \"frowning face\",\n",
    "    \"😣\": \"persevering face\",\n",
    "    \"😖\": \"confounded face\",\n",
    "    \"😫\": \"tired face\",\n",
    "    \"😩\": \"weary face\",\n",
    "    \"😤\": \"face with steam from nose\",\n",
    "    \"😠\": \"angry face\",\n",
    "    \"😡\": \"pouting face\",\n",
    "    \"😶\": \"face without mouth\",\n",
    "    \"😐\": \"neutral face\",\n",
    "    \"😑\": \"expressionless face\",\n",
    "    \"😯\": \"hushed face\",\n",
    "    \"😦\": \"frowning face with open mouth\",\n",
    "    \"😧\": \"anguished face\",\n",
    "    \"😮\": \"face with open mouth\",\n",
    "    \"😲\": \"astonished face\",\n",
    "    \"😵\": \"dizzy face\",\n",
    "    \"😳\": \"flushed face\",\n",
    "    \"😱\": \"face screaming in fear\",\n",
    "    \"😨\": \"fearful face\",\n",
    "    \"😰\": \"anxious face with sweat\",\n",
    "    \"😢\": \"crying face\",\n",
    "    \"😥\": \"sad but relieved face\",\n",
    "    \"🤤\": \"drooling face\",\n",
    "    \"😭\": \"loudly crying face\",\n",
    "    \"😓\": \"downcast face with sweat\",\n",
    "    \"😪\": \"sleepy face\",\n",
    "    \"😴\": \"sleeping face\",\n",
    "    \"🙄\": \"face with rolling eyes\",\n",
    "    \"🤔\": \"thinking face\",\n",
    "    \"🤥\": \"lying face\",\n",
    "    \"😬\": \"grimacing face\",\n",
    "    \"🤐\": \"zipper-mouth face\",\n",
    "    \"🤢\": \"nauseated face\",\n",
    "    \"🤧\": \"sneezing face\",\n",
    "    \"😷\": \"face with medical mask\",\n",
    "    \"🤒\": \"face with thermometer\",\n",
    "    \"🤕\": \"face with head-bandage\",\n",
    "    \"🤢\": \"nauseated face\",\n",
    "    \"🤮\": \"face vomiting\",\n",
    "    \"🤠\": \"cowboy hat face\",\n",
    "    \"🤡\": \"clown face\",\n",
    "    \"👹\": \"ogre\",\n",
    "    \"👺\": \"goblin\",\n",
    "    \"💩\": \"pile of poo\",\n",
    "    \"👻\": \"ghost\",\n",
    "    \"💀\": \"skull\",\n",
    "    \"☠️\": \"skull and crossbones\",\n",
    "    \"👽\": \"alien\",\n",
    "    \"👾\": \"alien monster\",\n",
    "    \"🤖\": \"robot\",\n",
    "    \"🎃\": \"jack-o-lantern\",\n",
    "    \"😺\": \"grinning cat face\",\n",
    "    \"😸\": \"grinning cat face with smiling eyes\",\n",
    "    \"😹\": \"cat face with tears of joy\",\n",
    "    \"👍\": \"thumps up\",\n",
    "    \"❤️\": \"love\"}\n",
    "def replace_emojis(text):\n",
    "    # Create a regular expression pattern to match emojis\n",
    "    emoji_pattern = re.compile(\"|\".join(re.escape(emoji) for emoji in emoji_dict.keys()))\n",
    "    \n",
    "    # Replace emojis with their text representations\n",
    "    return emoji_pattern.sub(lambda x: emoji_dict[x.group()], text)\n",
    "\n",
    "# Apply the function to the 'text' column\n",
    "data['text'] = data['text'].apply(replace_emojis)\n"
   ]
  },
  {
   "cell_type": "code",
   "execution_count": 938,
   "id": "74c06bad",
   "metadata": {},
   "outputs": [
    {
     "data": {
      "text/plain": [
       "'@virginamerica sfo-pdx schedule is still mia.'"
      ]
     },
     "execution_count": 938,
     "metadata": {},
     "output_type": "execute_result"
    }
   ],
   "source": [
    "data[\"text\"][15]"
   ]
  },
  {
   "cell_type": "code",
   "execution_count": 939,
   "id": "7c0481f9",
   "metadata": {},
   "outputs": [],
   "source": [
    "\n",
    "## import re\n",
    "#lets remove special characters etc\n",
    "data[\"text\"] = data[\"text\"].str.replace(r\"[^\\w\\s]\",\"\", regex=True)\n",
    "data[\"text\"] = data[\"text\"].str.replace(r\"[^\\w\\s]\",\"\", regex=True)\n"
   ]
  },
  {
   "cell_type": "code",
   "execution_count": 940,
   "id": "f6e400a7",
   "metadata": {},
   "outputs": [
    {
     "data": {
      "text/html": [
       "<div>\n",
       "<style scoped>\n",
       "    .dataframe tbody tr th:only-of-type {\n",
       "        vertical-align: middle;\n",
       "    }\n",
       "\n",
       "    .dataframe tbody tr th {\n",
       "        vertical-align: top;\n",
       "    }\n",
       "\n",
       "    .dataframe thead th {\n",
       "        text-align: right;\n",
       "    }\n",
       "</style>\n",
       "<table border=\"1\" class=\"dataframe\">\n",
       "  <thead>\n",
       "    <tr style=\"text-align: right;\">\n",
       "      <th></th>\n",
       "      <th>airline_sentiment</th>\n",
       "      <th>airline_sentiment_confidence</th>\n",
       "      <th>text</th>\n",
       "    </tr>\n",
       "  </thead>\n",
       "  <tbody>\n",
       "    <tr>\n",
       "      <th>0</th>\n",
       "      <td>neutral</td>\n",
       "      <td>1.0000</td>\n",
       "      <td>virginamerica what dhepburn said</td>\n",
       "    </tr>\n",
       "    <tr>\n",
       "      <th>1</th>\n",
       "      <td>positive</td>\n",
       "      <td>0.3486</td>\n",
       "      <td>virginamerica plus youve added commercials to ...</td>\n",
       "    </tr>\n",
       "    <tr>\n",
       "      <th>2</th>\n",
       "      <td>neutral</td>\n",
       "      <td>0.6837</td>\n",
       "      <td>virginamerica i didnt today must mean i need t...</td>\n",
       "    </tr>\n",
       "    <tr>\n",
       "      <th>3</th>\n",
       "      <td>negative</td>\n",
       "      <td>1.0000</td>\n",
       "      <td>virginamerica its really aggressive to blast o...</td>\n",
       "    </tr>\n",
       "    <tr>\n",
       "      <th>4</th>\n",
       "      <td>negative</td>\n",
       "      <td>1.0000</td>\n",
       "      <td>virginamerica and its a really big bad thing a...</td>\n",
       "    </tr>\n",
       "  </tbody>\n",
       "</table>\n",
       "</div>"
      ],
      "text/plain": [
       "  airline_sentiment  airline_sentiment_confidence  \\\n",
       "0           neutral                        1.0000   \n",
       "1          positive                        0.3486   \n",
       "2           neutral                        0.6837   \n",
       "3          negative                        1.0000   \n",
       "4          negative                        1.0000   \n",
       "\n",
       "                                                text  \n",
       "0                   virginamerica what dhepburn said  \n",
       "1  virginamerica plus youve added commercials to ...  \n",
       "2  virginamerica i didnt today must mean i need t...  \n",
       "3  virginamerica its really aggressive to blast o...  \n",
       "4  virginamerica and its a really big bad thing a...  "
      ]
     },
     "execution_count": 940,
     "metadata": {},
     "output_type": "execute_result"
    }
   ],
   "source": [
    "data.head()\n",
    "\n",
    "\n",
    "\n"
   ]
  },
  {
   "cell_type": "code",
   "execution_count": null,
   "id": "55ec1766",
   "metadata": {},
   "outputs": [],
   "source": []
  },
  {
   "cell_type": "code",
   "execution_count": 941,
   "id": "d9281ecf",
   "metadata": {},
   "outputs": [],
   "source": [
    "#next day"
   ]
  },
  {
   "cell_type": "code",
   "execution_count": 942,
   "id": "f3647a02",
   "metadata": {},
   "outputs": [
    {
     "data": {
      "text/html": [
       "<div>\n",
       "<style scoped>\n",
       "    .dataframe tbody tr th:only-of-type {\n",
       "        vertical-align: middle;\n",
       "    }\n",
       "\n",
       "    .dataframe tbody tr th {\n",
       "        vertical-align: top;\n",
       "    }\n",
       "\n",
       "    .dataframe thead th {\n",
       "        text-align: right;\n",
       "    }\n",
       "</style>\n",
       "<table border=\"1\" class=\"dataframe\">\n",
       "  <thead>\n",
       "    <tr style=\"text-align: right;\">\n",
       "      <th></th>\n",
       "      <th>airline_sentiment</th>\n",
       "      <th>airline_sentiment_confidence</th>\n",
       "      <th>text</th>\n",
       "    </tr>\n",
       "  </thead>\n",
       "  <tbody>\n",
       "    <tr>\n",
       "      <th>0</th>\n",
       "      <td>neutral</td>\n",
       "      <td>1.0000</td>\n",
       "      <td>virginamerica what dhepburn said</td>\n",
       "    </tr>\n",
       "    <tr>\n",
       "      <th>1</th>\n",
       "      <td>positive</td>\n",
       "      <td>0.3486</td>\n",
       "      <td>virginamerica plus youve added commercials to ...</td>\n",
       "    </tr>\n",
       "    <tr>\n",
       "      <th>2</th>\n",
       "      <td>neutral</td>\n",
       "      <td>0.6837</td>\n",
       "      <td>virginamerica i didnt today must mean i need t...</td>\n",
       "    </tr>\n",
       "    <tr>\n",
       "      <th>3</th>\n",
       "      <td>negative</td>\n",
       "      <td>1.0000</td>\n",
       "      <td>virginamerica its really aggressive to blast o...</td>\n",
       "    </tr>\n",
       "    <tr>\n",
       "      <th>4</th>\n",
       "      <td>negative</td>\n",
       "      <td>1.0000</td>\n",
       "      <td>virginamerica and its a really big bad thing a...</td>\n",
       "    </tr>\n",
       "  </tbody>\n",
       "</table>\n",
       "</div>"
      ],
      "text/plain": [
       "  airline_sentiment  airline_sentiment_confidence  \\\n",
       "0           neutral                        1.0000   \n",
       "1          positive                        0.3486   \n",
       "2           neutral                        0.6837   \n",
       "3          negative                        1.0000   \n",
       "4          negative                        1.0000   \n",
       "\n",
       "                                                text  \n",
       "0                   virginamerica what dhepburn said  \n",
       "1  virginamerica plus youve added commercials to ...  \n",
       "2  virginamerica i didnt today must mean i need t...  \n",
       "3  virginamerica its really aggressive to blast o...  \n",
       "4  virginamerica and its a really big bad thing a...  "
      ]
     },
     "execution_count": 942,
     "metadata": {},
     "output_type": "execute_result"
    }
   ],
   "source": [
    "data.head()"
   ]
  },
  {
   "cell_type": "code",
   "execution_count": 943,
   "id": "48d391ee",
   "metadata": {},
   "outputs": [],
   "source": [
    "#we wont remove stopwords because If we are training a model for senUment analysis, we might not wish to remove the stop words.\n",
    "#Movie review: “The movie was not good at all.”\n",
    "#Text a.er removal of stop words: “movie good”"
   ]
  },
  {
   "cell_type": "code",
   "execution_count": 944,
   "id": "bb895327",
   "metadata": {},
   "outputs": [],
   "source": [
    "\n",
    "#lets perfform Expanding contractions\n",
    "import contractions\n",
    "\n",
    "def expand_contractions(text):\n",
    "    return contractions.fix(text)\n",
    "\n",
    "data[\"text\"] = data[\"text\"].apply(expand_contractions)"
   ]
  },
  {
   "cell_type": "code",
   "execution_count": 945,
   "id": "3b9b99e9",
   "metadata": {},
   "outputs": [],
   "source": [
    "#if we perform that it will not run for ages \n",
    "#lets perform text correction\n",
    "#for installation\n",
    "#!pip install textblob      \n",
    "\n",
    "#to import\n",
    "#import textblob            \n",
    "#from textblob import TextBlob"
   ]
  },
  {
   "cell_type": "code",
   "execution_count": 946,
   "id": "ef63584c",
   "metadata": {},
   "outputs": [],
   "source": [
    "#data['text'] = data['text'].apply(lambda x: str(TextBlob(x).correct()))"
   ]
  },
  {
   "cell_type": "code",
   "execution_count": null,
   "id": "69e52968",
   "metadata": {},
   "outputs": [],
   "source": []
  },
  {
   "cell_type": "code",
   "execution_count": 947,
   "id": "57f1a9cc",
   "metadata": {},
   "outputs": [],
   "source": [
    "#so far in our text column we have performed  convert to lowercase ,\n",
    "#remove specific character ,Expanding contractions"
   ]
  },
  {
   "cell_type": "code",
   "execution_count": 948,
   "id": "01593797",
   "metadata": {},
   "outputs": [],
   "source": [
    "#from nltk import word_tokenize, sent_tokenize\n",
    "#data[\"text\"]=data[\"text\"].apply(word_tokenize)"
   ]
  },
  {
   "cell_type": "code",
   "execution_count": null,
   "id": "6360cbbc",
   "metadata": {},
   "outputs": [],
   "source": []
  },
  {
   "cell_type": "code",
   "execution_count": 949,
   "id": "0602b8c9",
   "metadata": {},
   "outputs": [
    {
     "data": {
      "text/html": [
       "<div>\n",
       "<style scoped>\n",
       "    .dataframe tbody tr th:only-of-type {\n",
       "        vertical-align: middle;\n",
       "    }\n",
       "\n",
       "    .dataframe tbody tr th {\n",
       "        vertical-align: top;\n",
       "    }\n",
       "\n",
       "    .dataframe thead th {\n",
       "        text-align: right;\n",
       "    }\n",
       "</style>\n",
       "<table border=\"1\" class=\"dataframe\">\n",
       "  <thead>\n",
       "    <tr style=\"text-align: right;\">\n",
       "      <th></th>\n",
       "      <th>airline_sentiment</th>\n",
       "      <th>airline_sentiment_confidence</th>\n",
       "      <th>text</th>\n",
       "    </tr>\n",
       "  </thead>\n",
       "  <tbody>\n",
       "    <tr>\n",
       "      <th>0</th>\n",
       "      <td>neutral</td>\n",
       "      <td>1.0000</td>\n",
       "      <td>virginamerica what dhepburn said</td>\n",
       "    </tr>\n",
       "    <tr>\n",
       "      <th>1</th>\n",
       "      <td>positive</td>\n",
       "      <td>0.3486</td>\n",
       "      <td>virginamerica plus you have added commercials ...</td>\n",
       "    </tr>\n",
       "    <tr>\n",
       "      <th>2</th>\n",
       "      <td>neutral</td>\n",
       "      <td>0.6837</td>\n",
       "      <td>virginamerica i did not today must mean i need...</td>\n",
       "    </tr>\n",
       "    <tr>\n",
       "      <th>3</th>\n",
       "      <td>negative</td>\n",
       "      <td>1.0000</td>\n",
       "      <td>virginamerica its really aggressive to blast o...</td>\n",
       "    </tr>\n",
       "    <tr>\n",
       "      <th>4</th>\n",
       "      <td>negative</td>\n",
       "      <td>1.0000</td>\n",
       "      <td>virginamerica and its a really big bad thing a...</td>\n",
       "    </tr>\n",
       "  </tbody>\n",
       "</table>\n",
       "</div>"
      ],
      "text/plain": [
       "  airline_sentiment  airline_sentiment_confidence  \\\n",
       "0           neutral                        1.0000   \n",
       "1          positive                        0.3486   \n",
       "2           neutral                        0.6837   \n",
       "3          negative                        1.0000   \n",
       "4          negative                        1.0000   \n",
       "\n",
       "                                                text  \n",
       "0                   virginamerica what dhepburn said  \n",
       "1  virginamerica plus you have added commercials ...  \n",
       "2  virginamerica i did not today must mean i need...  \n",
       "3  virginamerica its really aggressive to blast o...  \n",
       "4  virginamerica and its a really big bad thing a...  "
      ]
     },
     "execution_count": 949,
     "metadata": {},
     "output_type": "execute_result"
    }
   ],
   "source": [
    "data.head()"
   ]
  },
  {
   "cell_type": "code",
   "execution_count": 950,
   "id": "9e039a14",
   "metadata": {},
   "outputs": [],
   "source": [
    "\n",
    "#lets perform \n",
    "data['text']=data['text'].apply(str)\n",
    "import nltk\n",
    "from nltk.stem import PorterStemmer\n",
    "# create an object of class PorterStemmer\n",
    "\n",
    "\n",
    "stemmer = PorterStemmer()\n",
    "\n",
    "def stemming(text):\n",
    "    words = nltk.word_tokenize(text)\n",
    "    stemmed_words = [stemmer.stem(word) for word in words]\n",
    "    return ' '.join(stemmed_words)\n",
    "\n",
    "\n",
    "data['stemming_text'] = data['text'].apply(stemming)"
   ]
  },
  {
   "cell_type": "code",
   "execution_count": 951,
   "id": "db9c739b",
   "metadata": {},
   "outputs": [
    {
     "data": {
      "text/html": [
       "<div>\n",
       "<style scoped>\n",
       "    .dataframe tbody tr th:only-of-type {\n",
       "        vertical-align: middle;\n",
       "    }\n",
       "\n",
       "    .dataframe tbody tr th {\n",
       "        vertical-align: top;\n",
       "    }\n",
       "\n",
       "    .dataframe thead th {\n",
       "        text-align: right;\n",
       "    }\n",
       "</style>\n",
       "<table border=\"1\" class=\"dataframe\">\n",
       "  <thead>\n",
       "    <tr style=\"text-align: right;\">\n",
       "      <th></th>\n",
       "      <th>airline_sentiment</th>\n",
       "      <th>airline_sentiment_confidence</th>\n",
       "      <th>text</th>\n",
       "      <th>stemming_text</th>\n",
       "    </tr>\n",
       "  </thead>\n",
       "  <tbody>\n",
       "    <tr>\n",
       "      <th>0</th>\n",
       "      <td>neutral</td>\n",
       "      <td>1.0000</td>\n",
       "      <td>virginamerica what dhepburn said</td>\n",
       "      <td>virginamerica what dhepburn said</td>\n",
       "    </tr>\n",
       "    <tr>\n",
       "      <th>1</th>\n",
       "      <td>positive</td>\n",
       "      <td>0.3486</td>\n",
       "      <td>virginamerica plus you have added commercials ...</td>\n",
       "      <td>virginamerica plu you have ad commerci to the ...</td>\n",
       "    </tr>\n",
       "    <tr>\n",
       "      <th>2</th>\n",
       "      <td>neutral</td>\n",
       "      <td>0.6837</td>\n",
       "      <td>virginamerica i did not today must mean i need...</td>\n",
       "      <td>virginamerica i did not today must mean i need...</td>\n",
       "    </tr>\n",
       "    <tr>\n",
       "      <th>3</th>\n",
       "      <td>negative</td>\n",
       "      <td>1.0000</td>\n",
       "      <td>virginamerica its really aggressive to blast o...</td>\n",
       "      <td>virginamerica it realli aggress to blast obnox...</td>\n",
       "    </tr>\n",
       "    <tr>\n",
       "      <th>4</th>\n",
       "      <td>negative</td>\n",
       "      <td>1.0000</td>\n",
       "      <td>virginamerica and its a really big bad thing a...</td>\n",
       "      <td>virginamerica and it a realli big bad thing ab...</td>\n",
       "    </tr>\n",
       "  </tbody>\n",
       "</table>\n",
       "</div>"
      ],
      "text/plain": [
       "  airline_sentiment  airline_sentiment_confidence  \\\n",
       "0           neutral                        1.0000   \n",
       "1          positive                        0.3486   \n",
       "2           neutral                        0.6837   \n",
       "3          negative                        1.0000   \n",
       "4          negative                        1.0000   \n",
       "\n",
       "                                                text  \\\n",
       "0                   virginamerica what dhepburn said   \n",
       "1  virginamerica plus you have added commercials ...   \n",
       "2  virginamerica i did not today must mean i need...   \n",
       "3  virginamerica its really aggressive to blast o...   \n",
       "4  virginamerica and its a really big bad thing a...   \n",
       "\n",
       "                                       stemming_text  \n",
       "0                   virginamerica what dhepburn said  \n",
       "1  virginamerica plu you have ad commerci to the ...  \n",
       "2  virginamerica i did not today must mean i need...  \n",
       "3  virginamerica it realli aggress to blast obnox...  \n",
       "4  virginamerica and it a realli big bad thing ab...  "
      ]
     },
     "execution_count": 951,
     "metadata": {},
     "output_type": "execute_result"
    }
   ],
   "source": [
    "data.head()"
   ]
  },
  {
   "cell_type": "code",
   "execution_count": 952,
   "id": "930ba746",
   "metadata": {},
   "outputs": [
    {
     "data": {
      "text/plain": [
       "'virginamerica its really aggressive to blast obnoxious entertainment in your guests faces amp they have little recourse'"
      ]
     },
     "execution_count": 952,
     "metadata": {},
     "output_type": "execute_result"
    }
   ],
   "source": [
    "data[\"text\"][3]\n"
   ]
  },
  {
   "cell_type": "code",
   "execution_count": 953,
   "id": "b8b630e3",
   "metadata": {},
   "outputs": [
    {
     "data": {
      "text/plain": [
       "'virginamerica it realli aggress to blast obnoxi entertain in your guest face amp they have littl recours'"
      ]
     },
     "execution_count": 953,
     "metadata": {},
     "output_type": "execute_result"
    }
   ],
   "source": [
    "data[\"stemming_text\"][3]"
   ]
  },
  {
   "cell_type": "code",
   "execution_count": null,
   "id": "1321b8eb",
   "metadata": {},
   "outputs": [],
   "source": []
  },
  {
   "cell_type": "code",
   "execution_count": 954,
   "id": "e8a0efe3",
   "metadata": {},
   "outputs": [],
   "source": [
    "#we want to compare what will give better results stemming or lemmatizing , i will create a new column that insted\n",
    "#of stemming we performed lemmatizing on the text "
   ]
  },
  {
   "cell_type": "code",
   "execution_count": 955,
   "id": "b9674cc1",
   "metadata": {},
   "outputs": [],
   "source": [
    "#lets create a lematizzing function \n",
    "w_tokenizer = nltk.tokenize.WhitespaceTokenizer()\n",
    "lemmatizer = nltk.stem.WordNetLemmatizer()\n",
    "\n",
    "def lemmatize_text(text):\n",
    "    return [lemmatizer.lemmatize(w) for w in w_tokenizer.tokenize(text)]"
   ]
  },
  {
   "cell_type": "code",
   "execution_count": null,
   "id": "dfae6182",
   "metadata": {},
   "outputs": [],
   "source": []
  },
  {
   "cell_type": "code",
   "execution_count": 956,
   "id": "ee13b635",
   "metadata": {},
   "outputs": [],
   "source": [
    "data['text_lemmatized'] = data.text.apply(lemmatize_text)"
   ]
  },
  {
   "cell_type": "code",
   "execution_count": 957,
   "id": "b2b50243",
   "metadata": {},
   "outputs": [
    {
     "data": {
      "text/plain": [
       "'virginamerica its really aggressive to blast obnoxious entertainment in your guests faces amp they have little recourse'"
      ]
     },
     "execution_count": 957,
     "metadata": {},
     "output_type": "execute_result"
    }
   ],
   "source": [
    "data[\"text\"][3]"
   ]
  },
  {
   "cell_type": "code",
   "execution_count": 958,
   "id": "02b1e0a0",
   "metadata": {},
   "outputs": [
    {
     "data": {
      "text/plain": [
       "['virginamerica',\n",
       " 'it',\n",
       " 'really',\n",
       " 'aggressive',\n",
       " 'to',\n",
       " 'blast',\n",
       " 'obnoxious',\n",
       " 'entertainment',\n",
       " 'in',\n",
       " 'your',\n",
       " 'guest',\n",
       " 'face',\n",
       " 'amp',\n",
       " 'they',\n",
       " 'have',\n",
       " 'little',\n",
       " 'recourse']"
      ]
     },
     "execution_count": 958,
     "metadata": {},
     "output_type": "execute_result"
    }
   ],
   "source": [
    "data[\"text_lemmatized\"][3]"
   ]
  },
  {
   "cell_type": "code",
   "execution_count": 959,
   "id": "f066b496",
   "metadata": {},
   "outputs": [
    {
     "data": {
      "text/html": [
       "<div>\n",
       "<style scoped>\n",
       "    .dataframe tbody tr th:only-of-type {\n",
       "        vertical-align: middle;\n",
       "    }\n",
       "\n",
       "    .dataframe tbody tr th {\n",
       "        vertical-align: top;\n",
       "    }\n",
       "\n",
       "    .dataframe thead th {\n",
       "        text-align: right;\n",
       "    }\n",
       "</style>\n",
       "<table border=\"1\" class=\"dataframe\">\n",
       "  <thead>\n",
       "    <tr style=\"text-align: right;\">\n",
       "      <th></th>\n",
       "      <th>airline_sentiment</th>\n",
       "      <th>airline_sentiment_confidence</th>\n",
       "      <th>text</th>\n",
       "      <th>stemming_text</th>\n",
       "      <th>text_lemmatized</th>\n",
       "    </tr>\n",
       "  </thead>\n",
       "  <tbody>\n",
       "    <tr>\n",
       "      <th>0</th>\n",
       "      <td>neutral</td>\n",
       "      <td>1.0000</td>\n",
       "      <td>virginamerica what dhepburn said</td>\n",
       "      <td>virginamerica what dhepburn said</td>\n",
       "      <td>[virginamerica, what, dhepburn, said]</td>\n",
       "    </tr>\n",
       "    <tr>\n",
       "      <th>1</th>\n",
       "      <td>positive</td>\n",
       "      <td>0.3486</td>\n",
       "      <td>virginamerica plus you have added commercials ...</td>\n",
       "      <td>virginamerica plu you have ad commerci to the ...</td>\n",
       "      <td>[virginamerica, plus, you, have, added, commer...</td>\n",
       "    </tr>\n",
       "    <tr>\n",
       "      <th>2</th>\n",
       "      <td>neutral</td>\n",
       "      <td>0.6837</td>\n",
       "      <td>virginamerica i did not today must mean i need...</td>\n",
       "      <td>virginamerica i did not today must mean i need...</td>\n",
       "      <td>[virginamerica, i, did, not, today, must, mean...</td>\n",
       "    </tr>\n",
       "    <tr>\n",
       "      <th>3</th>\n",
       "      <td>negative</td>\n",
       "      <td>1.0000</td>\n",
       "      <td>virginamerica its really aggressive to blast o...</td>\n",
       "      <td>virginamerica it realli aggress to blast obnox...</td>\n",
       "      <td>[virginamerica, it, really, aggressive, to, bl...</td>\n",
       "    </tr>\n",
       "    <tr>\n",
       "      <th>4</th>\n",
       "      <td>negative</td>\n",
       "      <td>1.0000</td>\n",
       "      <td>virginamerica and its a really big bad thing a...</td>\n",
       "      <td>virginamerica and it a realli big bad thing ab...</td>\n",
       "      <td>[virginamerica, and, it, a, really, big, bad, ...</td>\n",
       "    </tr>\n",
       "  </tbody>\n",
       "</table>\n",
       "</div>"
      ],
      "text/plain": [
       "  airline_sentiment  airline_sentiment_confidence  \\\n",
       "0           neutral                        1.0000   \n",
       "1          positive                        0.3486   \n",
       "2           neutral                        0.6837   \n",
       "3          negative                        1.0000   \n",
       "4          negative                        1.0000   \n",
       "\n",
       "                                                text  \\\n",
       "0                   virginamerica what dhepburn said   \n",
       "1  virginamerica plus you have added commercials ...   \n",
       "2  virginamerica i did not today must mean i need...   \n",
       "3  virginamerica its really aggressive to blast o...   \n",
       "4  virginamerica and its a really big bad thing a...   \n",
       "\n",
       "                                       stemming_text  \\\n",
       "0                   virginamerica what dhepburn said   \n",
       "1  virginamerica plu you have ad commerci to the ...   \n",
       "2  virginamerica i did not today must mean i need...   \n",
       "3  virginamerica it realli aggress to blast obnox...   \n",
       "4  virginamerica and it a realli big bad thing ab...   \n",
       "\n",
       "                                     text_lemmatized  \n",
       "0              [virginamerica, what, dhepburn, said]  \n",
       "1  [virginamerica, plus, you, have, added, commer...  \n",
       "2  [virginamerica, i, did, not, today, must, mean...  \n",
       "3  [virginamerica, it, really, aggressive, to, bl...  \n",
       "4  [virginamerica, and, it, a, really, big, bad, ...  "
      ]
     },
     "execution_count": 959,
     "metadata": {},
     "output_type": "execute_result"
    }
   ],
   "source": [
    "data.head()"
   ]
  },
  {
   "cell_type": "code",
   "execution_count": 960,
   "id": "629bf269",
   "metadata": {},
   "outputs": [],
   "source": [
    "#lets perform tokenizing in columns \"text\" and stemming_text\n",
    "from nltk import word_tokenize, sent_tokenize\n",
    "data[\"text\"]=data[\"text\"].apply(word_tokenize)\n",
    "data[\"stemming_text\"]=data[\"stemming_text\"].apply(word_tokenize)"
   ]
  },
  {
   "cell_type": "code",
   "execution_count": 961,
   "id": "6f8cc7dc",
   "metadata": {},
   "outputs": [
    {
     "data": {
      "text/html": [
       "<div>\n",
       "<style scoped>\n",
       "    .dataframe tbody tr th:only-of-type {\n",
       "        vertical-align: middle;\n",
       "    }\n",
       "\n",
       "    .dataframe tbody tr th {\n",
       "        vertical-align: top;\n",
       "    }\n",
       "\n",
       "    .dataframe thead th {\n",
       "        text-align: right;\n",
       "    }\n",
       "</style>\n",
       "<table border=\"1\" class=\"dataframe\">\n",
       "  <thead>\n",
       "    <tr style=\"text-align: right;\">\n",
       "      <th></th>\n",
       "      <th>airline_sentiment</th>\n",
       "      <th>airline_sentiment_confidence</th>\n",
       "      <th>text</th>\n",
       "      <th>stemming_text</th>\n",
       "      <th>text_lemmatized</th>\n",
       "    </tr>\n",
       "  </thead>\n",
       "  <tbody>\n",
       "    <tr>\n",
       "      <th>0</th>\n",
       "      <td>neutral</td>\n",
       "      <td>1.0000</td>\n",
       "      <td>[virginamerica, what, dhepburn, said]</td>\n",
       "      <td>[virginamerica, what, dhepburn, said]</td>\n",
       "      <td>[virginamerica, what, dhepburn, said]</td>\n",
       "    </tr>\n",
       "    <tr>\n",
       "      <th>1</th>\n",
       "      <td>positive</td>\n",
       "      <td>0.3486</td>\n",
       "      <td>[virginamerica, plus, you, have, added, commer...</td>\n",
       "      <td>[virginamerica, plu, you, have, ad, commerci, ...</td>\n",
       "      <td>[virginamerica, plus, you, have, added, commer...</td>\n",
       "    </tr>\n",
       "    <tr>\n",
       "      <th>2</th>\n",
       "      <td>neutral</td>\n",
       "      <td>0.6837</td>\n",
       "      <td>[virginamerica, i, did, not, today, must, mean...</td>\n",
       "      <td>[virginamerica, i, did, not, today, must, mean...</td>\n",
       "      <td>[virginamerica, i, did, not, today, must, mean...</td>\n",
       "    </tr>\n",
       "    <tr>\n",
       "      <th>3</th>\n",
       "      <td>negative</td>\n",
       "      <td>1.0000</td>\n",
       "      <td>[virginamerica, its, really, aggressive, to, b...</td>\n",
       "      <td>[virginamerica, it, realli, aggress, to, blast...</td>\n",
       "      <td>[virginamerica, it, really, aggressive, to, bl...</td>\n",
       "    </tr>\n",
       "    <tr>\n",
       "      <th>4</th>\n",
       "      <td>negative</td>\n",
       "      <td>1.0000</td>\n",
       "      <td>[virginamerica, and, its, a, really, big, bad,...</td>\n",
       "      <td>[virginamerica, and, it, a, realli, big, bad, ...</td>\n",
       "      <td>[virginamerica, and, it, a, really, big, bad, ...</td>\n",
       "    </tr>\n",
       "  </tbody>\n",
       "</table>\n",
       "</div>"
      ],
      "text/plain": [
       "  airline_sentiment  airline_sentiment_confidence  \\\n",
       "0           neutral                        1.0000   \n",
       "1          positive                        0.3486   \n",
       "2           neutral                        0.6837   \n",
       "3          negative                        1.0000   \n",
       "4          negative                        1.0000   \n",
       "\n",
       "                                                text  \\\n",
       "0              [virginamerica, what, dhepburn, said]   \n",
       "1  [virginamerica, plus, you, have, added, commer...   \n",
       "2  [virginamerica, i, did, not, today, must, mean...   \n",
       "3  [virginamerica, its, really, aggressive, to, b...   \n",
       "4  [virginamerica, and, its, a, really, big, bad,...   \n",
       "\n",
       "                                       stemming_text  \\\n",
       "0              [virginamerica, what, dhepburn, said]   \n",
       "1  [virginamerica, plu, you, have, ad, commerci, ...   \n",
       "2  [virginamerica, i, did, not, today, must, mean...   \n",
       "3  [virginamerica, it, realli, aggress, to, blast...   \n",
       "4  [virginamerica, and, it, a, realli, big, bad, ...   \n",
       "\n",
       "                                     text_lemmatized  \n",
       "0              [virginamerica, what, dhepburn, said]  \n",
       "1  [virginamerica, plus, you, have, added, commer...  \n",
       "2  [virginamerica, i, did, not, today, must, mean...  \n",
       "3  [virginamerica, it, really, aggressive, to, bl...  \n",
       "4  [virginamerica, and, it, a, really, big, bad, ...  "
      ]
     },
     "execution_count": 961,
     "metadata": {},
     "output_type": "execute_result"
    }
   ],
   "source": [
    "data.head()"
   ]
  },
  {
   "cell_type": "code",
   "execution_count": null,
   "id": "27c7c8d6",
   "metadata": {},
   "outputs": [],
   "source": []
  },
  {
   "cell_type": "code",
   "execution_count": null,
   "id": "4ab4f673",
   "metadata": {},
   "outputs": [],
   "source": []
  },
  {
   "cell_type": "code",
   "execution_count": null,
   "id": "24e1f2d5",
   "metadata": {},
   "outputs": [],
   "source": [
    "\n"
   ]
  },
  {
   "cell_type": "code",
   "execution_count": null,
   "id": "8b1936ea",
   "metadata": {},
   "outputs": [],
   "source": [
    "\n"
   ]
  },
  {
   "cell_type": "code",
   "execution_count": null,
   "id": "723bab96",
   "metadata": {},
   "outputs": [],
   "source": []
  }
 ],
 "metadata": {
  "kernelspec": {
   "display_name": "Python 3 (ipykernel)",
   "language": "python",
   "name": "python3"
  },
  "language_info": {
   "codemirror_mode": {
    "name": "ipython",
    "version": 3
   },
   "file_extension": ".py",
   "mimetype": "text/x-python",
   "name": "python",
   "nbconvert_exporter": "python",
   "pygments_lexer": "ipython3",
   "version": "3.10.9"
  }
 },
 "nbformat": 4,
 "nbformat_minor": 5
}
